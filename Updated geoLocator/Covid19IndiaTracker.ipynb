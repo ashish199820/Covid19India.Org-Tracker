{
 "cells": [
  {
   "cell_type": "markdown",
   "metadata": {
    "colab_type": "text",
    "id": "view-in-github"
   },
   "source": [
    "<a href=\"https://colab.research.google.com/github/punit0087/Covid19India.Org-Tracker/blob/master/Covid19IndiaTracker.ipynb\" target=\"_parent\"><img src=\"https://colab.research.google.com/assets/colab-badge.svg\" alt=\"Open In Colab\"/></a>"
   ]
  },
  {
   "cell_type": "code",
   "execution_count": 23,
   "metadata": {
    "colab": {},
    "colab_type": "code",
    "id": "2-Fzu2y2sPxm"
   },
   "outputs": [],
   "source": [
    "import numpy as np\n",
    "import pandas as pd\n",
    "import requests\n",
    "from math import sin, cos, sqrt, atan2, radians\n",
    "import os"
   ]
  },
  {
   "cell_type": "code",
   "execution_count": 24,
   "metadata": {
    "colab": {},
    "colab_type": "code",
    "id": "dUv5YbIR1ja2"
   },
   "outputs": [],
   "source": [
    "#https://drive.google.com/file/d/1FBbr9zubK4VsB6gmNzj4fvE204ngvCeZ/view?usp=sharing\n",
    "def download_file_from_google_drive(id, destination):\n",
    "    URL = \"https://docs.google.com/uc?export=download\"\n",
    "\n",
    "    session = requests.Session()\n",
    "\n",
    "    response = session.get(URL, params = { 'id' : id }, stream = True)\n",
    "    token = get_confirm_token(response)\n",
    "\n",
    "    if token:\n",
    "        params = { 'id' : id, 'confirm' : token }\n",
    "        response = session.get(URL, params = params, stream = True)\n",
    "\n",
    "    save_response_content(response, destination)    \n",
    "\n",
    "def get_confirm_token(response):\n",
    "    for key, value in response.cookies.items():\n",
    "        if key.startswith('download_warning'):\n",
    "            return value\n",
    "\n",
    "    return None\n",
    "\n",
    "def save_response_content(response, destination):\n",
    "    CHUNK_SIZE = 32768\n",
    "\n",
    "    with open(destination, \"wb\") as f:\n",
    "        for chunk in response.iter_content(CHUNK_SIZE):\n",
    "            if chunk: # filter out keep-alive new chunks\n",
    "                f.write(chunk)\n",
    "\n",
    "if __name__ == \"__main__\":\n",
    "    file_id = '1FBbr9zubK4VsB6gmNzj4fvE204ngvCeZ'\n",
    "    destination = 'IndiaPostalCodes.csv'\n",
    "\n",
    "    #If file is not present in current directory, then download file from google_drive.\n",
    "    files_in_dir = os.listdir()\n",
    "    if 'IndiaPostalCodes.csv' not in files_in_dir :\n",
    "        download_file_from_google_drive(file_id, destination)"
   ]
  },
  {
   "cell_type": "code",
   "execution_count": 25,
   "metadata": {
    "colab": {},
    "colab_type": "code",
    "id": "Y_VQz71csPxq"
   },
   "outputs": [],
   "source": [
    "\n",
    "def get_distance_between_lats_lons(lat1,lon1,lat2,lon2):\n",
    "# approximate radius of earth in km\n",
    "        R = 6373\n",
    "\n",
    "        lat1 = radians(lat1)\n",
    "        lon1 = radians(lon1)\n",
    "        lat2 = radians(lat2)\n",
    "        lon2 = radians(lon2)\n",
    "\n",
    "        dlon = lon2 - lon1\n",
    "        dlat = lat2 - lat1\n",
    "\n",
    "        a = sin(dlat / 2)**2 + cos(lat1) * cos(lat2) * sin(dlon / 2)**2\n",
    "        c = 2 * atan2(sqrt(a), sqrt(1 - a))\n",
    "\n",
    "        distance = R * c\n",
    "        return(distance)"
   ]
  },
  {
   "cell_type": "code",
   "execution_count": 26,
   "metadata": {
    "colab": {},
    "colab_type": "code",
    "id": "itgX8WHAsPxt"
   },
   "outputs": [],
   "source": [
    "file= 'IndiaPostalCodes.csv'\n",
    "city_wise_coordinates= pd.read_csv(file)\n",
    "city_wise_coordinates['City'] = city_wise_coordinates['City'].str.upper()\n",
    "city_wise_coordinates['District'] = city_wise_coordinates['District'].str.upper()\n",
    "city_wise_coordinates['State'] = city_wise_coordinates['State'].str.upper()\n",
    "#city_wise_coordinates"
   ]
  },
  {
   "cell_type": "code",
   "execution_count": 27,
   "metadata": {
    "colab": {},
    "colab_type": "code",
    "id": "O5wMBb6xsPxw"
   },
   "outputs": [],
   "source": [
    "district_wise_pin_states= city_wise_coordinates.groupby('District')['PIN','State'].agg(pd.Series.mode)\n",
    "district_wise_lat_lng= city_wise_coordinates.groupby('District')['Lat','Lng'].agg(pd.Series.mean)\n",
    "\n",
    "district_wise_data_geonames= district_wise_pin_states.merge(district_wise_lat_lng,left_on='District', right_on='District', how= 'inner').reset_index()\n",
    "#district_wise_data_geonames"
   ]
  },
  {
   "cell_type": "code",
   "execution_count": 28,
   "metadata": {
    "colab": {},
    "colab_type": "code",
    "id": "3kb7QTNRsPx8"
   },
   "outputs": [],
   "source": [
    "df= pd.read_json(\"https://api.covid19india.org/raw_data.json\")## data from covid19india.org\n",
    "df3= []\n",
    "for row in range(0,df.shape[0]):\n",
    "    df1= df['raw_data'][row]\n",
    "    df2=pd.DataFrame(df1.items()).set_index(0)\n",
    "    df3.append(df2.T)\n",
    "# Converting all raw data to data frame\n",
    "appended_data = pd.concat(df3, sort=False)\n",
    "appended_data.replace(r'^\\s*$', np.nan, regex=True, inplace = True)\n",
    "appended_data.rename(columns={'detectedcity':'City'}, inplace=True)\n",
    "appended_data.rename(columns={'detecteddistrict':'District'}, inplace=True)\n",
    "appended_data.rename(columns={'detectedstate':'State'}, inplace=True)\n",
    "\n",
    "appended_data['City'] = appended_data['City'].str.lower()\n",
    "appended_data['District'] = appended_data['District'].str.lower()\n",
    "appended_data['State'] = appended_data['State'].str.lower()\n",
    "appended_data= appended_data.dropna(thresh=3)\n"
   ]
  },
  {
   "cell_type": "code",
   "execution_count": 29,
   "metadata": {
    "colab": {},
    "colab_type": "code",
    "id": "8gaic_z5sPx_"
   },
   "outputs": [],
   "source": [
    "\n",
    "# Grouping the raw data of patients according to Districts\n",
    "district_wise_counts= appended_data.groupby('District').agg({'patientnumber': 'count'})\n",
    "district_wise_counts.rename(columns={'patientnumber':'d_patient_counts'}, inplace=True)\n",
    "district_wise_counts =district_wise_counts.reset_index()\n",
    "district_wise_counts['District'] = district_wise_counts['District'].str.upper()"
   ]
  },
  {
   "cell_type": "code",
   "execution_count": 30,
   "metadata": {
    "colab": {},
    "colab_type": "code",
    "id": "ySSlILfdsPyI"
   },
   "outputs": [],
   "source": [
    "# Grouping the all the patients data with district and getting the longitude and Latitude from the ditrict postal data\n",
    "corona_db_with_latlng= district_wise_counts.merge(district_wise_data_geonames, left_on='District', right_on='District', how= 'inner')\n",
    "corona_db_with_latlng.rename(columns={'d_patient_counts':'Num_Positive_cases'}, inplace=True)"
   ]
  },
  {
   "cell_type": "code",
   "execution_count": 31,
   "metadata": {
    "colab": {},
    "colab_type": "code",
    "id": "mpUWl0IvsPyK"
   },
   "outputs": [],
   "source": [
    "import warnings\n",
    "warnings.filterwarnings(\"ignore\")"
   ]
  },
  {
   "cell_type": "code",
   "execution_count": 32,
   "metadata": {
    "colab": {},
    "colab_type": "code",
    "id": "v9uEs-cSsPyM"
   },
   "outputs": [],
   "source": [
    "def get_idx_distance_from_query_locations(q_lat, q_lng, corona_db_with_latlng):\n",
    "    dist_array=[]\n",
    "    for index, row in corona_db_with_latlng.iterrows():\n",
    "        dist= int(get_distance_between_lats_lons(q_lat,q_lng,row['Lat'],row['Lng']))\n",
    "        dist_array.append(dist)\n",
    "\n",
    "    minpos = dist_array.index(min(dist_array))\n",
    "    mindist= dist_array[minpos]\n",
    "    cases= corona_db_with_latlng.loc[minpos,'Num_Positive_cases']\n",
    "    location= corona_db_with_latlng.loc[minpos,'District']\n",
    "    state= corona_db_with_latlng.loc[minpos,'State']\n",
    "    Lats= corona_db_with_latlng.loc[minpos,'Lat']\n",
    "    Lngs= corona_db_with_latlng.loc[minpos,'Lng']\n",
    "\n",
    "    return(mindist, cases, location, state ,Lats , Lngs)"
   ]
  },
  {
   "cell_type": "code",
   "execution_count": 41,
   "metadata": {
    "colab": {},
    "colab_type": "code",
    "id": "Jsu_Xeb1sPyO"
   },
   "outputs": [],
   "source": [
    "def get_nearest_covid19_stats_pincode(query_info,corona_db_with_latlng):\n",
    "    # First we check if there is any case reported in same postal are.\n",
    "    # For this we check the presence pf parsed pinCode in the recived data thorugh api i.e.  corona_db_with_latlng\n",
    "    # Also we set mindist to 1-2 km ,since a postal area is in general of 2 km.\n",
    "    if query_info.PIN.iloc[0] in corona_db_with_latlng['PIN'].values:\n",
    "        mindist= 2\n",
    "        print('if mein hai hum')\n",
    "        Lat= corona_db_with_latlng.loc[corona_db_with_latlng.PIN==query_info.PIN.iloc[1], 'Lat'];\n",
    "        Lng= corona_db_with_latlng.loc[corona_db_with_latlng.PIN==query_info.PIN.iloc[1], 'Lng'];\n",
    "        mindist= int(get_distance_between_lats_lons(query_info.Lat.iloc[1] ,query_info.Lng.iloc[1], Lat,Lng))\n",
    "        cases= corona_db_with_latlng.loc[corona_db_with_latlng.PIN==query_info.PIN.iloc[1], 'Num_Positive_cases']\n",
    "        district= corona_db_with_latlng.loc[corona_db_with_latlng.PIN==query_info.PIN.iloc[1], 'District']\n",
    "        state= corona_db_with_latlng.loc[corona_db_with_latlng.PIN==query_info.PIN.iloc[1], 'State']\n",
    "        print(\"The nearest location with COVID-19 from your PIN is in your own Postal Location with {} number of positive cases\".format(cases.values[0]))\n",
    "        print(\"Location: {} , {}\".format(district.values[0].upper(), state.values[0].upper()))\n",
    "        return (1 , cases.values[0] , district.values[0].upper() , state.values[0].upper() , Lat , Lng)\n",
    "    else:\n",
    "        # This else statement is for if no case in same postal area.\n",
    "        (mindist, cases, district, state , Lat, Lng) = get_idx_distance_from_query_locations(query_info.Lat.iloc[0] ,query_info.Lng.iloc[0], corona_db_with_latlng)\n",
    "        print(\"The nearest location with COVID-19 from your PIN is within {} km with {} number of positive cases\".format(mindist, cases))\n",
    "        print(\"Location: {} , {}\".format(district.upper(), state.upper()))\n",
    "        return (mindist,cases,district.upper(), state.upper(), Lat , Lng)\n",
    "    \n",
    "\n",
    "        \n",
    "def get_nearest_covid19_stats_lat_lng(query_info,corona_db_with_latlng):\n",
    "    # Here we try to get data through\n",
    "    # Sometimes one pin can point to morethan one location.        \n",
    "    (mindist, cases, district, state , Lat, Lng) = get_idx_distance_from_query_locations(query_info['Lat'] ,query_info['Lng'], corona_db_with_latlng)  \n",
    "    print(\"The nearest location with COVID-19 from your GPS location is within {} km with {} number of positive cases\".format(mindist, cases))\n",
    "    print(\"Location: {} , {}\".format(district.upper(), state.upper()))\n",
    "    return (mindist,cases,district.upper(), state.upper(), Lat , Lng)\n"
   ]
  },
  {
   "cell_type": "code",
   "execution_count": 44,
   "metadata": {
    "colab": {
     "base_uri": "https://localhost:8080/",
     "height": 69
    },
    "colab_type": "code",
    "id": "9h-qLRDbsPyS",
    "outputId": "161bca14-5e5c-40fa-b383-25fb480a7383"
   },
   "outputs": [
    {
     "name": "stdin",
     "output_type": "stream",
     "text": [
      "Enter your location as an Indian PIN  :  283111\n"
     ]
    },
    {
     "name": "stdout",
     "output_type": "stream",
     "text": [
      "The nearest location with COVID-19 from your PIN is within 21 km with 9 number of positive cases\n",
      "Location: AGRA , UTTAR PRADESH\n"
     ]
    }
   ],
   "source": [
    "query_pincode = input(\"Enter your location as an Indian PIN  : \")\n",
    "g = int(query_pincode)\n",
    "    #print('call_received at script 2')\n",
    "if g in city_wise_coordinates.PIN.values:\n",
    "    query_info= city_wise_coordinates[city_wise_coordinates.PIN == int(g)]\n",
    "        #print('No error in script 2')\n",
    "    (mindist, cases, district, state , Lat, Lng) = get_nearest_covid19_stats_pincode(query_info,corona_db_with_latlng)\n",
    "else:\n",
    "    print('You entered an Invalid PIN')\n"
   ]
  },
  {
   "cell_type": "code",
   "execution_count": 39,
   "metadata": {},
   "outputs": [
    {
     "name": "stdout",
     "output_type": "stream",
     "text": [
      "The nearest location with COVID-19 from your GPS location is within 88 km with 1 number of positive cases\n",
      "Location: RANCHI , JHARKHAND\n"
     ]
    },
    {
     "data": {
      "text/plain": [
       "(88, 1, 'RANCHI', 'JHARKHAND', 23.335075124378108, 85.33391343283581)"
      ]
     },
     "execution_count": 39,
     "metadata": {},
     "output_type": "execute_result"
    }
   ],
   "source": [
    "# To enable nearest search using current location.   \n",
    "Latitude = 23.631247 # input(\"Enter you lat\")\n",
    "Longitude = 86.135352 # input(\"Enter your lng\")\n",
    "query_info = {'Lat':Latitude , 'Lng' : Longitude}\n",
    "get_nearest_covid19_stats_lat_lng(query_info,corona_db_with_latlng)"
   ]
  },
  {
   "cell_type": "code",
   "execution_count": null,
   "metadata": {},
   "outputs": [],
   "source": []
  },
  {
   "cell_type": "code",
   "execution_count": 164,
   "metadata": {},
   "outputs": [],
   "source": [
    "state_wise_counts= appended_data.groupby(['State' , 'District']).agg({'patientnumber': 'count'})\n",
    "state_wise_counts.rename(columns={'patientnumber':'d_patient_counts'}, inplace=True)\n",
    "state_wise_counts =state_wise_counts.reset_index()\n",
    "state_wise_counts['State'] = state_wise_counts['State'].str.upper()\n",
    "state_wise_counts['District'] = state_wise_counts['District'].str.upper()"
   ]
  },
  {
   "cell_type": "code",
   "execution_count": 165,
   "metadata": {},
   "outputs": [
    {
     "name": "stdout",
     "output_type": "stream",
     "text": [
      "327\n",
      "1191\n",
      "0\n"
     ]
    }
   ],
   "source": [
    "print(appended_data['District'].isna().sum())\n",
    "print(appended_data['City'].isna().sum())\n",
    "print(appended_data['State'].isna().sum())"
   ]
  },
  {
   "cell_type": "code",
   "execution_count": 38,
   "metadata": {},
   "outputs": [
    {
     "data": {
      "text/plain": [
       "0                                283111\n",
       "1                                796261\n",
       "2                                305801\n",
       "3      [688504, 688526, 688561, 690503]\n",
       "4                                301001\n",
       "                     ...               \n",
       "156                              531040\n",
       "157                              673592\n",
       "158                              110018\n",
       "159            [534315, 534444, 534455]\n",
       "160                              445304\n",
       "Name: PIN, Length: 161, dtype: object"
      ]
     },
     "execution_count": 38,
     "metadata": {},
     "output_type": "execute_result"
    }
   ],
   "source": [
    "corona_db_with_latlng['PIN']"
   ]
  },
  {
   "cell_type": "code",
   "execution_count": 146,
   "metadata": {},
   "outputs": [],
   "source": [
    "d=district_wise_data_geonames[district_wise_data_geonames['State']=='ANDHRA PRADESH']"
   ]
  },
  {
   "cell_type": "code",
   "execution_count": 166,
   "metadata": {},
   "outputs": [
    {
     "data": {
      "text/html": [
       "<div>\n",
       "<style scoped>\n",
       "    .dataframe tbody tr th:only-of-type {\n",
       "        vertical-align: middle;\n",
       "    }\n",
       "\n",
       "    .dataframe tbody tr th {\n",
       "        vertical-align: top;\n",
       "    }\n",
       "\n",
       "    .dataframe thead th {\n",
       "        text-align: right;\n",
       "    }\n",
       "</style>\n",
       "<table border=\"1\" class=\"dataframe\">\n",
       "  <thead>\n",
       "    <tr style=\"text-align: right;\">\n",
       "      <th></th>\n",
       "      <th>District</th>\n",
       "      <th>PIN</th>\n",
       "      <th>State</th>\n",
       "      <th>Lat</th>\n",
       "      <th>Lng</th>\n",
       "    </tr>\n",
       "  </thead>\n",
       "  <tbody>\n",
       "    <tr>\n",
       "      <th>20</th>\n",
       "      <td>ANANTHAPUR</td>\n",
       "      <td>515865</td>\n",
       "      <td>ANDHRA PRADESH</td>\n",
       "      <td>14.392188</td>\n",
       "      <td>77.677661</td>\n",
       "    </tr>\n",
       "    <tr>\n",
       "      <th>116</th>\n",
       "      <td>CHITTOOR</td>\n",
       "      <td>517247</td>\n",
       "      <td>ANDHRA PRADESH</td>\n",
       "      <td>13.570778</td>\n",
       "      <td>79.039442</td>\n",
       "    </tr>\n",
       "    <tr>\n",
       "      <th>123</th>\n",
       "      <td>CUDDAPAH</td>\n",
       "      <td>[516175, 516267]</td>\n",
       "      <td>ANDHRA PRADESH</td>\n",
       "      <td>14.463180</td>\n",
       "      <td>78.754036</td>\n",
       "    </tr>\n",
       "    <tr>\n",
       "      <th>166</th>\n",
       "      <td>EAST GODAVARI</td>\n",
       "      <td>533352</td>\n",
       "      <td>ANDHRA PRADESH</td>\n",
       "      <td>17.053940</td>\n",
       "      <td>81.864499</td>\n",
       "    </tr>\n",
       "    <tr>\n",
       "      <th>212</th>\n",
       "      <td>GUNTUR</td>\n",
       "      <td>522647</td>\n",
       "      <td>ANDHRA PRADESH</td>\n",
       "      <td>16.216747</td>\n",
       "      <td>80.177463</td>\n",
       "    </tr>\n",
       "    <tr>\n",
       "      <th>338</th>\n",
       "      <td>KRISHNA</td>\n",
       "      <td>521185</td>\n",
       "      <td>ANDHRA PRADESH</td>\n",
       "      <td>16.607002</td>\n",
       "      <td>80.859357</td>\n",
       "    </tr>\n",
       "    <tr>\n",
       "      <th>343</th>\n",
       "      <td>KURNOOL</td>\n",
       "      <td>518502</td>\n",
       "      <td>ANDHRA PRADESH</td>\n",
       "      <td>15.475624</td>\n",
       "      <td>77.973648</td>\n",
       "    </tr>\n",
       "    <tr>\n",
       "      <th>431</th>\n",
       "      <td>NELLORE</td>\n",
       "      <td>524002</td>\n",
       "      <td>ANDHRA PRADESH</td>\n",
       "      <td>14.459547</td>\n",
       "      <td>79.761635</td>\n",
       "    </tr>\n",
       "    <tr>\n",
       "      <th>465</th>\n",
       "      <td>PEDDAPALLI</td>\n",
       "      <td>505416</td>\n",
       "      <td>ANDHRA PRADESH</td>\n",
       "      <td>18.538700</td>\n",
       "      <td>79.080300</td>\n",
       "    </tr>\n",
       "    <tr>\n",
       "      <th>474</th>\n",
       "      <td>PRAKASAM</td>\n",
       "      <td>523201</td>\n",
       "      <td>ANDHRA PRADESH</td>\n",
       "      <td>15.559616</td>\n",
       "      <td>79.622014</td>\n",
       "    </tr>\n",
       "    <tr>\n",
       "      <th>578</th>\n",
       "      <td>SRIKAKULAM</td>\n",
       "      <td>532168</td>\n",
       "      <td>ANDHRA PRADESH</td>\n",
       "      <td>18.474599</td>\n",
       "      <td>83.798376</td>\n",
       "    </tr>\n",
       "    <tr>\n",
       "      <th>635</th>\n",
       "      <td>VISAKHAPATNAM</td>\n",
       "      <td>531040</td>\n",
       "      <td>ANDHRA PRADESH</td>\n",
       "      <td>17.834689</td>\n",
       "      <td>82.843291</td>\n",
       "    </tr>\n",
       "    <tr>\n",
       "      <th>636</th>\n",
       "      <td>VIZIANAGARAM</td>\n",
       "      <td>535523</td>\n",
       "      <td>ANDHRA PRADESH</td>\n",
       "      <td>18.388699</td>\n",
       "      <td>83.365653</td>\n",
       "    </tr>\n",
       "    <tr>\n",
       "      <th>644</th>\n",
       "      <td>WEST GODAVARI</td>\n",
       "      <td>[534315, 534444, 534455]</td>\n",
       "      <td>ANDHRA PRADESH</td>\n",
       "      <td>16.826023</td>\n",
       "      <td>81.393287</td>\n",
       "    </tr>\n",
       "  </tbody>\n",
       "</table>\n",
       "</div>"
      ],
      "text/plain": [
       "          District                       PIN           State        Lat  \\\n",
       "20      ANANTHAPUR                    515865  ANDHRA PRADESH  14.392188   \n",
       "116       CHITTOOR                    517247  ANDHRA PRADESH  13.570778   \n",
       "123       CUDDAPAH          [516175, 516267]  ANDHRA PRADESH  14.463180   \n",
       "166  EAST GODAVARI                    533352  ANDHRA PRADESH  17.053940   \n",
       "212         GUNTUR                    522647  ANDHRA PRADESH  16.216747   \n",
       "338        KRISHNA                    521185  ANDHRA PRADESH  16.607002   \n",
       "343        KURNOOL                    518502  ANDHRA PRADESH  15.475624   \n",
       "431        NELLORE                    524002  ANDHRA PRADESH  14.459547   \n",
       "465     PEDDAPALLI                    505416  ANDHRA PRADESH  18.538700   \n",
       "474       PRAKASAM                    523201  ANDHRA PRADESH  15.559616   \n",
       "578     SRIKAKULAM                    532168  ANDHRA PRADESH  18.474599   \n",
       "635  VISAKHAPATNAM                    531040  ANDHRA PRADESH  17.834689   \n",
       "636   VIZIANAGARAM                    535523  ANDHRA PRADESH  18.388699   \n",
       "644  WEST GODAVARI  [534315, 534444, 534455]  ANDHRA PRADESH  16.826023   \n",
       "\n",
       "           Lng  \n",
       "20   77.677661  \n",
       "116  79.039442  \n",
       "123  78.754036  \n",
       "166  81.864499  \n",
       "212  80.177463  \n",
       "338  80.859357  \n",
       "343  77.973648  \n",
       "431  79.761635  \n",
       "465  79.080300  \n",
       "474  79.622014  \n",
       "578  83.798376  \n",
       "635  82.843291  \n",
       "636  83.365653  \n",
       "644  81.393287  "
      ]
     },
     "execution_count": 166,
     "metadata": {},
     "output_type": "execute_result"
    }
   ],
   "source": [
    "d"
   ]
  },
  {
   "cell_type": "code",
   "execution_count": 168,
   "metadata": {},
   "outputs": [],
   "source": [
    "query_info= city_wise_coordinates[city_wise_coordinates.PIN == int(516175)]"
   ]
  },
  {
   "cell_type": "code",
   "execution_count": 169,
   "metadata": {},
   "outputs": [
    {
     "data": {
      "text/html": [
       "<div>\n",
       "<style scoped>\n",
       "    .dataframe tbody tr th:only-of-type {\n",
       "        vertical-align: middle;\n",
       "    }\n",
       "\n",
       "    .dataframe tbody tr th {\n",
       "        vertical-align: top;\n",
       "    }\n",
       "\n",
       "    .dataframe thead th {\n",
       "        text-align: right;\n",
       "    }\n",
       "</style>\n",
       "<table border=\"1\" class=\"dataframe\">\n",
       "  <thead>\n",
       "    <tr style=\"text-align: right;\">\n",
       "      <th></th>\n",
       "      <th>Country</th>\n",
       "      <th>PIN</th>\n",
       "      <th>City</th>\n",
       "      <th>State</th>\n",
       "      <th>State_ID</th>\n",
       "      <th>District</th>\n",
       "      <th>District_ID</th>\n",
       "      <th>Community</th>\n",
       "      <th>Lat</th>\n",
       "      <th>Lng</th>\n",
       "      <th>Loc_accuracy</th>\n",
       "    </tr>\n",
       "  </thead>\n",
       "  <tbody>\n",
       "    <tr>\n",
       "      <th>7391</th>\n",
       "      <td>IN</td>\n",
       "      <td>516175</td>\n",
       "      <td>JILLELLA</td>\n",
       "      <td>ANDHRA PRADESH</td>\n",
       "      <td>2</td>\n",
       "      <td>CUDDAPAH</td>\n",
       "      <td>551.0</td>\n",
       "      <td>NaN</td>\n",
       "      <td>14.4599</td>\n",
       "      <td>78.7836</td>\n",
       "      <td>4</td>\n",
       "    </tr>\n",
       "    <tr>\n",
       "      <th>7392</th>\n",
       "      <td>IN</td>\n",
       "      <td>516175</td>\n",
       "      <td>GUDIPADU</td>\n",
       "      <td>ANDHRA PRADESH</td>\n",
       "      <td>2</td>\n",
       "      <td>CUDDAPAH</td>\n",
       "      <td>551.0</td>\n",
       "      <td>NaN</td>\n",
       "      <td>14.8172</td>\n",
       "      <td>78.6814</td>\n",
       "      <td>4</td>\n",
       "    </tr>\n",
       "    <tr>\n",
       "      <th>7393</th>\n",
       "      <td>IN</td>\n",
       "      <td>516175</td>\n",
       "      <td>BAYANAPALLE</td>\n",
       "      <td>ANDHRA PRADESH</td>\n",
       "      <td>2</td>\n",
       "      <td>CUDDAPAH</td>\n",
       "      <td>551.0</td>\n",
       "      <td>Duvvur</td>\n",
       "      <td>14.5698</td>\n",
       "      <td>78.8097</td>\n",
       "      <td>4</td>\n",
       "    </tr>\n",
       "    <tr>\n",
       "      <th>7394</th>\n",
       "      <td>IN</td>\n",
       "      <td>516175</td>\n",
       "      <td>CHINNASINGANAPALLE</td>\n",
       "      <td>ANDHRA PRADESH</td>\n",
       "      <td>2</td>\n",
       "      <td>CUDDAPAH</td>\n",
       "      <td>551.0</td>\n",
       "      <td>NaN</td>\n",
       "      <td>14.8420</td>\n",
       "      <td>78.6974</td>\n",
       "      <td>4</td>\n",
       "    </tr>\n",
       "    <tr>\n",
       "      <th>7395</th>\n",
       "      <td>IN</td>\n",
       "      <td>516175</td>\n",
       "      <td>ERRAPALLE</td>\n",
       "      <td>ANDHRA PRADESH</td>\n",
       "      <td>2</td>\n",
       "      <td>CUDDAPAH</td>\n",
       "      <td>551.0</td>\n",
       "      <td>Duvvur</td>\n",
       "      <td>14.7413</td>\n",
       "      <td>78.8260</td>\n",
       "      <td>4</td>\n",
       "    </tr>\n",
       "  </tbody>\n",
       "</table>\n",
       "</div>"
      ],
      "text/plain": [
       "     Country     PIN                City           State  State_ID  District  \\\n",
       "7391      IN  516175            JILLELLA  ANDHRA PRADESH         2  CUDDAPAH   \n",
       "7392      IN  516175            GUDIPADU  ANDHRA PRADESH         2  CUDDAPAH   \n",
       "7393      IN  516175         BAYANAPALLE  ANDHRA PRADESH         2  CUDDAPAH   \n",
       "7394      IN  516175  CHINNASINGANAPALLE  ANDHRA PRADESH         2  CUDDAPAH   \n",
       "7395      IN  516175           ERRAPALLE  ANDHRA PRADESH         2  CUDDAPAH   \n",
       "\n",
       "      District_ID Community      Lat      Lng  Loc_accuracy  \n",
       "7391        551.0       NaN  14.4599  78.7836             4  \n",
       "7392        551.0       NaN  14.8172  78.6814             4  \n",
       "7393        551.0    Duvvur  14.5698  78.8097             4  \n",
       "7394        551.0       NaN  14.8420  78.6974             4  \n",
       "7395        551.0    Duvvur  14.7413  78.8260             4  "
      ]
     },
     "execution_count": 169,
     "metadata": {},
     "output_type": "execute_result"
    }
   ],
   "source": [
    "query_info.head()"
   ]
  },
  {
   "cell_type": "code",
   "execution_count": 171,
   "metadata": {},
   "outputs": [
    {
     "data": {
      "text/plain": [
       "0"
      ]
     },
     "execution_count": 171,
     "metadata": {},
     "output_type": "execute_result"
    }
   ],
   "source": [
    "appended_data['patientnumber'].isna().sum()"
   ]
  },
  {
   "cell_type": "code",
   "execution_count": null,
   "metadata": {},
   "outputs": [],
   "source": []
  }
 ],
 "metadata": {
  "colab": {
   "collapsed_sections": [],
   "include_colab_link": true,
   "name": "Covid19IndiaTracker.ipynb",
   "provenance": []
  },
  "kernelspec": {
   "display_name": "Python 3",
   "language": "python",
   "name": "python3"
  },
  "language_info": {
   "codemirror_mode": {
    "name": "ipython",
    "version": 3
   },
   "file_extension": ".py",
   "mimetype": "text/x-python",
   "name": "python",
   "nbconvert_exporter": "python",
   "pygments_lexer": "ipython3",
   "version": "3.7.4"
  }
 },
 "nbformat": 4,
 "nbformat_minor": 4
}
